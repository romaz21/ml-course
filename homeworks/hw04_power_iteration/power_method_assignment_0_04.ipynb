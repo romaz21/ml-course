{
 "cells": [
  {
   "cell_type": "markdown",
   "metadata": {
    "id": "-2pjXks_0tmd"
   },
   "source": [
    "# Home assignment 03: Power method"
   ]
  },
  {
   "cell_type": "markdown",
   "metadata": {
    "id": "WPYirA190tmg"
   },
   "source": [
    "Today your goal is to implement the Power method of eigenvalues and eigenvectors computation and test it on syntetic data. Details are available at [Wikipedia](https://ru.wikipedia.org/wiki/Степенной_метод).\n",
    "\n",
    "Please, note, that provided method should be applicable to compute the smallest eigenvalue as well (in absolute values)."
   ]
  },
  {
   "cell_type": "markdown",
   "metadata": {},
   "source": [
    "Just in case, for eigenvalue $\\lambda$ and eigenvector $v$ of matrix $A$ the following equation holds:\n",
    "$$\n",
    "Ax = \\lambda x\n",
    "$$"
   ]
  },
  {
   "cell_type": "code",
   "execution_count": 1,
   "metadata": {
    "ExecuteTime": {
     "start_time": "2023-10-08T22:58:05.559649Z",
     "end_time": "2023-10-08T22:58:05.690039Z"
    },
    "id": "4pqgXdtr0tmh"
   },
   "outputs": [],
   "source": [
    "import numpy as np"
   ]
  },
  {
   "cell_type": "code",
   "execution_count": 33,
   "metadata": {
    "ExecuteTime": {
     "start_time": "2023-10-08T23:08:37.074126Z",
     "end_time": "2023-10-08T23:08:37.080620Z"
    }
   },
   "outputs": [],
   "source": [
    "def get_dominant_eigenvalue_and_eigenvector(data, num_steps):\n",
    "    \"\"\"\n",
    "    data: np.ndarray – symmetric diagonalizable real-valued matrix\n",
    "    num_steps: int – number of power method steps\n",
    "    \n",
    "    Returns:\n",
    "    eigenvalue: float – dominant eigenvalue estimation after `num_steps` steps\n",
    "    eigenvector: np.ndarray – corresponding eigenvector estimation\n",
    "    \"\"\"\n",
    "    ### YOUR CODE HERE\n",
    "    r = np.random.rand(data.shape[1])\n",
    "    for i in range(num_steps):\n",
    "        z = data @ r\n",
    "        r = z/np.linalg.norm(z)\n",
    "    return float(r.T@data@r/(r@r)), r"
   ]
  },
  {
   "cell_type": "code",
   "execution_count": 33,
   "metadata": {
    "ExecuteTime": {
     "start_time": "2023-10-08T23:08:37.207548Z",
     "end_time": "2023-10-08T23:08:37.213181Z"
    }
   },
   "outputs": [],
   "source": []
  },
  {
   "cell_type": "code",
   "execution_count": 34,
   "metadata": {
    "ExecuteTime": {
     "start_time": "2023-10-08T23:08:37.372883Z",
     "end_time": "2023-10-08T23:08:37.376721Z"
    }
   },
   "outputs": [],
   "source": [
    "def get_eigenvalues_and_eigenvectors_with_numpy(data):\n",
    "    _eigenvalues, _eigenvectors = np.linalg.eig(data)\n",
    "    max_index = np.argmax(np.abs(_eigenvalues))\n",
    "    min_index = np.argmin(np.abs(_eigenvalues))\n",
    "\n",
    "    _test_pair_a = np.array([_eigenvalues[max_index], _eigenvalues[min_index]])\n",
    "    _test_pair_b = np.array([_eigenvectors[:, max_index], _eigenvectors[:, min_index]])\n",
    "    if _test_pair_b[0][0] < 0:\n",
    "        _test_pair_b[0] *= -1\n",
    "    if _test_pair_b[1][0] < 0:\n",
    "        _test_pair_b[1] *= -1\n",
    "        \n",
    "    return _test_pair_a, _test_pair_b"
   ]
  },
  {
   "cell_type": "code",
   "execution_count": 36,
   "metadata": {
    "ExecuteTime": {
     "start_time": "2023-10-08T23:08:44.558174Z",
     "end_time": "2023-10-08T23:08:49.532508Z"
    }
   },
   "outputs": [
    {
     "name": "stdout",
     "output_type": "stream",
     "text": [
      "Seems fine! Copy function `get_dominant_eigenvalue_and_eigenvector` to the .py file and submit your solution to the contest!\n"
     ]
    }
   ],
   "source": [
    "for _ in range(1000):\n",
    "    size = np.random.choice(np.arange(2, 5))\n",
    "    data = np.random.randn(size, size)\n",
    "    data = data.T.dot(data)\n",
    "    a0, b0 = get_dominant_eigenvalue_and_eigenvector(data, 1000)\n",
    "    assert type(a0) == float, 'Return type for eigenvalue is not Python float (please, note, numpy.float64 is a different type)'\n",
    "    assert type(b0) == np.ndarray, 'Return type for eigenvector is not np.ndarray'\n",
    "    \n",
    "    a1, b1 = get_dominant_eigenvalue_and_eigenvector(np.linalg.inv(data), 1000)\n",
    "    a1 = 1/a1\n",
    "\n",
    "    if b0[0] < 0:\n",
    "        b0 *= -1\n",
    "    if b1[0] < 0:\n",
    "        b1 *= -1\n",
    "        \n",
    "    assert np.allclose(data.dot(b0), a0 * b0, atol=1e-3), f'Ax != \\lambda x for the dominant eigenvalue check the solution!\\n{data.dot(b0), a0 * b0}'\n",
    "    assert np.allclose(data.dot(b1), a1 * b1, atol=1e-3), f'Ax != \\lambda x for the smallest eigenvalue check the solution!\\n{data.dot(b1), a1 * b1}'\n",
    "    \n",
    "    _test_pair_a, _test_pair_b = get_eigenvalues_and_eigenvectors_with_numpy(data)\n",
    "    \n",
    "    assert np.allclose(_test_pair_a, np.array([a0, a1]), atol=1e-3), f'Eigenvalues are different from np.linalg.eig!\\n{_test_pair_a, np.array([a0, a1])}'\n",
    "    assert np.allclose(_test_pair_b, np.array([b0, b1]), atol=1e-3), f'Eigenvectors are different from np.linalg.eig!\\n{_test_pair_b, np.array([b0, b1])}'\n",
    "    \n",
    "print('Seems fine! Copy function `get_dominant_eigenvalue_and_eigenvector` to the .py file and submit your solution to the contest!')"
   ]
  },
  {
   "cell_type": "code",
   "execution_count": 35,
   "outputs": [],
   "source": [],
   "metadata": {
    "collapsed": false,
    "ExecuteTime": {
     "start_time": "2023-10-08T23:08:43.185755Z",
     "end_time": "2023-10-08T23:08:43.187543Z"
    }
   }
  },
  {
   "cell_type": "code",
   "execution_count": null,
   "outputs": [],
   "source": [],
   "metadata": {
    "collapsed": false
   }
  }
 ],
 "metadata": {
  "colab": {
   "provenance": []
  },
  "kernelspec": {
   "name": "python3",
   "language": "python",
   "display_name": "Python 3 (ipykernel)"
  },
  "language_info": {
   "codemirror_mode": {
    "name": "ipython",
    "version": 3
   },
   "file_extension": ".py",
   "mimetype": "text/x-python",
   "name": "python",
   "nbconvert_exporter": "python",
   "pygments_lexer": "ipython3",
   "version": "3.9.7"
  }
 },
 "nbformat": 4,
 "nbformat_minor": 1
}
