{
 "cells": [
  {
   "cell_type": "markdown",
   "id": "119c9460",
   "metadata": {},
   "source": [
    "## Home assignment 06: Gradient boosting with MSE\n",
    "\n",
    "Please, fill the lines in the code below.\n",
    "This is a simplified version of `BoostingRegressor` from `sklearn`. Please, notice, that `sklearn` API is **not preserved**.\n",
    "\n",
    "Your algorithm should be able to train different numbers of instances of the same model class. Every target is computed according to the loss function gradient. In this particular case, loss is computed for MSE.\n",
    "\n",
    "The model should be passed as model class with no explicit parameters and no parentheses.\n",
    "\n",
    "Example:\n",
    "```\n",
    "import numpy as np\n",
    "from sklearn.tree import DecisionTreeRegressor\n",
    "\n",
    "boosting_regressor = SimplifiedBoostingRegressor()    \n",
    "boosting_regressor.fit(DecisionTreeRegressor, X, y, 100, 0.5, 10)\n",
    "\n",
    "\n",
    "```"
   ]
  },
  {
   "cell_type": "code",
   "execution_count": 1,
   "id": "31ecde34",
   "metadata": {
    "ExecuteTime": {
     "start_time": "2023-11-01T01:53:13.096133Z",
     "end_time": "2023-11-01T01:53:14.909541Z"
    }
   },
   "outputs": [],
   "source": [
    "import numpy as np\n",
    "from tqdm.auto import tqdm\n",
    "from matplotlib import pyplot as plt\n",
    "\n",
    "from sklearn.tree import DecisionTreeRegressor\n",
    "from sklearn.linear_model import LinearRegression\n",
    "from sklearn.datasets import make_regression"
   ]
  },
  {
   "cell_type": "code",
   "execution_count": 58,
   "id": "06110580",
   "metadata": {
    "ExecuteTime": {
     "start_time": "2023-11-01T02:19:55.425459Z",
     "end_time": "2023-11-01T02:19:55.482141Z"
    }
   },
   "outputs": [],
   "source": [
    "class SimplifiedBoostingRegressor:\n",
    "    def __init__(self):\n",
    "        pass\n",
    "        \n",
    "    @staticmethod\n",
    "    def loss(targets, predictions):\n",
    "        loss = np.mean((targets - predictions)**2)\n",
    "        return loss\n",
    "    \n",
    "    @staticmethod\n",
    "    def loss_gradients(targets, predictions):\n",
    "        gradients = 2*(targets - predictions)# YOUR CODE HERE\n",
    "        assert gradients.shape == targets.shape\n",
    "        return gradients\n",
    "        \n",
    "        \n",
    "    def fit(self, model_constructor, data, targets, num_steps=10, lr=0.1, max_depth=5, verbose=False):\n",
    "        '''\n",
    "        Fit sequence of models on the provided data.\n",
    "        Model constructor with no parameters (and with no ()) is passed to this function.\n",
    "        If \n",
    "        \n",
    "        example:\n",
    "        \n",
    "        boosting_regressor = SimplifiedBoostingRegressor()    \n",
    "        boosting_regressor.fit(DecisionTreeRegressor, X, y, 100, 0.5, 10)\n",
    "        '''\n",
    "        new_targets = lr*targets\n",
    "        self.models_list = []\n",
    "        self.lr = lr\n",
    "        self.loss_log = []\n",
    "        for step in range(num_steps):\n",
    "            try:\n",
    "                model = model_constructor(max_depth=max_depth)\n",
    "            except TypeError:\n",
    "                print('max_depth keyword is not found. Ignoring')\n",
    "                model = model_constructor()\n",
    "            self.models_list.append(model.fit(data, new_targets))\n",
    "            predictions = self.predict(data)\n",
    "            self.loss_log.append(self.loss(targets, predictions))\n",
    "            gradients = self.loss_gradients(targets, predictions)\n",
    "            new_targets = +self.lr*gradients# YOUR CODE HERE\n",
    "            #print(predictions)\n",
    "        if verbose:\n",
    "            print('Finished! Loss=', self.loss_log[-1])\n",
    "        return self\n",
    "            \n",
    "    def predict(self, data):\n",
    "        predictions = np.zeros(len(data))\n",
    "        for model in self.models_list:\n",
    "            predictions += model.predict(data)# YOUR CODE HERE\n",
    "        #print(predictions)\n",
    "        return predictions\n"
   ]
  },
  {
   "cell_type": "markdown",
   "id": "5cfa174f",
   "metadata": {},
   "source": [
    "### Local tests:"
   ]
  },
  {
   "cell_type": "markdown",
   "id": "b54221c2",
   "metadata": {},
   "source": [
    "#### Overfitting tests:"
   ]
  },
  {
   "cell_type": "code",
   "execution_count": 59,
   "id": "84c94a8b",
   "metadata": {
    "ExecuteTime": {
     "start_time": "2023-11-01T02:19:56.680265Z",
     "end_time": "2023-11-01T02:19:59.707321Z"
    }
   },
   "outputs": [
    {
     "data": {
      "text/plain": "  0%|          | 0/10 [00:00<?, ?it/s]",
      "application/vnd.jupyter.widget-view+json": {
       "version_major": 2,
       "version_minor": 0,
       "model_id": "09d8959d5a0a4fc2ba1d437fb71617f4"
      }
     },
     "metadata": {},
     "output_type": "display_data"
    },
    {
     "name": "stdout",
     "output_type": "stream",
     "text": [
      "Overfitting tests done!\n"
     ]
    }
   ],
   "source": [
    "for _ in tqdm(range(10)):\n",
    "    X = np.random.randn(200, 10)\n",
    "    y = np.random.normal(0, 1, X.shape[0])\n",
    "    boosting_regressor = SimplifiedBoostingRegressor()    \n",
    "    boosting_regressor.fit(DecisionTreeRegressor, X, y, 100, 0.5, 10)\n",
    "    assert boosting_regressor.loss_log[-1] < 1e-3, 'Boosting should overfit with many deep trees on simple data!'\n",
    "    assert boosting_regressor.loss_log[0] > 1e-2, 'First tree loos should be not to low!'    \n",
    "print('Overfitting tests done!')"
   ]
  },
  {
   "cell_type": "markdown",
   "id": "17e5cfd7",
   "metadata": {},
   "source": [
    "#### Zero lr tests:"
   ]
  },
  {
   "cell_type": "code",
   "execution_count": 60,
   "outputs": [
    {
     "data": {
      "text/plain": "[0.3437335696770769,\n 0.031248313967838125,\n 0.0026418971149018444,\n 2.5357135362357348e-05,\n 2.7799773700071603e-06,\n 2.494789497608528e-07,\n 8.824081548954937e-10,\n 1.6373556999075987e-11,\n 1.136969812885995e-13,\n 2.6621388188355503e-15,\n 3.3348844671976564e-16,\n 1.3786609797495247e-16,\n 1.3786609797092467e-16,\n 1.3786609797098173e-16,\n 1.3786609797104847e-16,\n 1.3786609797079433e-16,\n 1.3786609797053558e-16,\n 1.3786609797025968e-16,\n 1.3786609797058693e-16,\n 1.378660979709514e-16,\n 1.3786609797133342e-16,\n 1.378660979716664e-16,\n 1.3786609797201694e-16,\n 1.3786609797229553e-16,\n 1.3786609797260205e-16,\n 1.3786609797292613e-16,\n 1.3786609797293717e-16,\n 1.3786609797296683e-16,\n 1.3786609797300575e-16,\n 1.3786609797304372e-16,\n 1.3786609797309098e-16,\n 1.3786609797315682e-16,\n 1.3786609797323196e-16,\n 1.3786609797322585e-16,\n 1.37866097973229e-16,\n 1.378660979732415e-16,\n 1.37866097973253e-16,\n 1.3786609797327377e-16,\n 1.3786609797330382e-16,\n 1.378660979733432e-16,\n 1.3786609797339183e-16,\n 1.3786609797336353e-16,\n 1.3786609797333523e-16,\n 1.3786609797331622e-16,\n 1.3786609797329721e-16,\n 1.378660979732782e-16,\n 1.378660979732592e-16,\n 1.3786609797324949e-16,\n 1.378660979732398e-16,\n 1.3786609797323006e-16,\n 1.3786609797322967e-16,\n 1.3786609797322927e-16,\n 1.3786609797321855e-16,\n 1.3786609797321712e-16,\n 1.378660979732157e-16,\n 1.3786609797321428e-16,\n 1.3786609797321288e-16,\n 1.3786609797322074e-16,\n 1.378660979732286e-16,\n 1.378660979732365e-16,\n 1.3786609797324438e-16,\n 1.3786609797326157e-16,\n 1.3786609797327875e-16,\n 1.3786609797329588e-16,\n 1.378660979733131e-16,\n 1.3786609797333954e-16,\n 1.3786609797336604e-16,\n 1.3786609797330197e-16,\n 1.3786609797323788e-16,\n 1.378660979731738e-16,\n 1.378660979731097e-16,\n 1.3786609797304564e-16,\n 1.3786609797298155e-16,\n 1.378660979729268e-16,\n 1.3786609797287202e-16,\n 1.3786609797281722e-16,\n 1.3786609797276244e-16,\n 1.378660979727077e-16,\n 1.3786609797265289e-16,\n 1.378660979725981e-16,\n 1.378660979725433e-16,\n 1.3786609797248858e-16,\n 1.3786609797243378e-16,\n 1.37866097972379e-16,\n 1.378660979723242e-16,\n 1.3786609797226945e-16,\n 1.3786609797221467e-16,\n 1.378660979721692e-16,\n 1.378660979721237e-16,\n 1.3786609797207825e-16,\n 1.3786609797203274e-16,\n 1.3786609797198726e-16,\n 1.3786609797194178e-16,\n 1.378660979718963e-16,\n 1.3786609797185081e-16,\n 1.3786609797180533e-16,\n 1.3786609797175985e-16,\n 1.378660979717144e-16,\n 1.378660979716689e-16,\n 1.3786609797162342e-16]"
     },
     "execution_count": 60,
     "metadata": {},
     "output_type": "execute_result"
    }
   ],
   "source": [
    "boosting_regressor.loss_log"
   ],
   "metadata": {
    "collapsed": false,
    "ExecuteTime": {
     "start_time": "2023-11-01T02:20:01.074712Z",
     "end_time": "2023-11-01T02:20:01.107114Z"
    }
   }
  },
  {
   "cell_type": "code",
   "execution_count": 61,
   "id": "a9e60fe4",
   "metadata": {
    "ExecuteTime": {
     "start_time": "2023-11-01T02:20:01.499382Z",
     "end_time": "2023-11-01T02:20:01.589640Z"
    }
   },
   "outputs": [
    {
     "data": {
      "text/plain": "  0%|          | 0/10 [00:00<?, ?it/s]",
      "application/vnd.jupyter.widget-view+json": {
       "version_major": 2,
       "version_minor": 0,
       "model_id": "1eef468bc622444bbd14d68bfea98df3"
      }
     },
     "metadata": {},
     "output_type": "display_data"
    },
    {
     "name": "stdout",
     "output_type": "stream",
     "text": [
      "Zero lr tests done!\n"
     ]
    }
   ],
   "source": [
    "for _ in tqdm(range(10)):\n",
    "    X = np.random.randn(200, 10)\n",
    "    y = np.random.normal(0, 1, X.shape[0])\n",
    "    boosting_regressor = SimplifiedBoostingRegressor()    \n",
    "    boosting_regressor.fit(DecisionTreeRegressor, X, y, 10, 0., 10)\n",
    "    predictions = boosting_regressor.predict(X)\n",
    "    assert all(predictions == 0), 'With zero weight model should predict constant values!'\n",
    "    assert boosting_regressor.loss_log[-1] == boosting_regressor.loss_log[0], 'With zero weight model should not learn anything new!'\n",
    "print('Zero lr tests done!')"
   ]
  },
  {
   "cell_type": "code",
   "execution_count": 62,
   "outputs": [
    {
     "data": {
      "text/plain": "array([0., 0., 0., 0., 0., 0., 0., 0., 0., 0., 0., 0., 0., 0., 0., 0., 0.,\n       0., 0., 0., 0., 0., 0., 0., 0., 0., 0., 0., 0., 0., 0., 0., 0., 0.,\n       0., 0., 0., 0., 0., 0., 0., 0., 0., 0., 0., 0., 0., 0., 0., 0., 0.,\n       0., 0., 0., 0., 0., 0., 0., 0., 0., 0., 0., 0., 0., 0., 0., 0., 0.,\n       0., 0., 0., 0., 0., 0., 0., 0., 0., 0., 0., 0., 0., 0., 0., 0., 0.,\n       0., 0., 0., 0., 0., 0., 0., 0., 0., 0., 0., 0., 0., 0., 0., 0., 0.,\n       0., 0., 0., 0., 0., 0., 0., 0., 0., 0., 0., 0., 0., 0., 0., 0., 0.,\n       0., 0., 0., 0., 0., 0., 0., 0., 0., 0., 0., 0., 0., 0., 0., 0., 0.,\n       0., 0., 0., 0., 0., 0., 0., 0., 0., 0., 0., 0., 0., 0., 0., 0., 0.,\n       0., 0., 0., 0., 0., 0., 0., 0., 0., 0., 0., 0., 0., 0., 0., 0., 0.,\n       0., 0., 0., 0., 0., 0., 0., 0., 0., 0., 0., 0., 0., 0., 0., 0., 0.,\n       0., 0., 0., 0., 0., 0., 0., 0., 0., 0., 0., 0., 0.])"
     },
     "execution_count": 62,
     "metadata": {},
     "output_type": "execute_result"
    }
   ],
   "source": [
    "predictions"
   ],
   "metadata": {
    "collapsed": false,
    "ExecuteTime": {
     "start_time": "2023-11-01T02:20:02.777603Z",
     "end_time": "2023-11-01T02:20:02.802605Z"
    }
   }
  },
  {
   "cell_type": "markdown",
   "id": "fc2faafe",
   "metadata": {},
   "source": [
    "#### Fitting test"
   ]
  },
  {
   "cell_type": "code",
   "execution_count": 63,
   "id": "2710d9cf",
   "metadata": {
    "ExecuteTime": {
     "start_time": "2023-11-01T02:20:05.183758Z",
     "end_time": "2023-11-01T02:20:15.307085Z"
    }
   },
   "outputs": [
    {
     "data": {
      "text/plain": "  0%|          | 0/10 [00:00<?, ?it/s]",
      "application/vnd.jupyter.widget-view+json": {
       "version_major": 2,
       "version_minor": 0,
       "model_id": "0057129da8ee4239b17f3b141531c8aa"
      }
     },
     "metadata": {},
     "output_type": "display_data"
    }
   ],
   "source": [
    "for _ in tqdm(range(10)):\n",
    "    data, targets = make_regression(1000, 10)\n",
    "    indices = np.arange(len(data))\n",
    "    np.random.shuffle(indices)\n",
    "    data_train, targets_train = data[indices[:700]], targets[indices[:700]]\n",
    "    data_val, targets_val = data[indices[700:]], targets[indices[700:]]\n",
    "\n",
    "\n",
    "    train_loss_log = []\n",
    "    val_loss_log = []\n",
    "    for depth in range(1, 25):\n",
    "        boosting_regressor = SimplifiedBoostingRegressor()    \n",
    "\n",
    "        boosting_regressor.fit(DecisionTreeRegressor, data_train, targets_train, depth, 0.2, 5)\n",
    "        predictions_train = boosting_regressor.predict(data_train)\n",
    "        predictions_val = boosting_regressor.predict(data_val)\n",
    "        train_loss_log.append(np.mean((predictions_train-targets_train)**2))\n",
    "        val_loss_log.append(np.mean((predictions_val-targets_val)**2))\n",
    "        \n",
    "    assert train_loss_log[-2] > train_loss_log[-1] and abs(train_loss_log[-2]/train_loss_log[-1]) < 2, '{}, {}'.format(train_loss_log[-2], train_loss_log[-1])"
   ]
  },
  {
   "cell_type": "code",
   "execution_count": 15,
   "outputs": [
    {
     "data": {
      "text/plain": "[5961.161525995072,\n 10920.317037697263,\n 14772.927246407538,\n 17112.529038775734,\n 18648.69481151587,\n 19728.026149742902,\n 20526.047054961735,\n 21139.378361953804,\n 21625.200086386387,\n 22019.396841247948,\n 22345.586446020243,\n 22619.93253669124,\n 22853.863107968777,\n 23055.6830145324,\n 23231.57087457781,\n 23386.217644800206,\n 23523.248405569873,\n 23645.50851007469,\n 23755.26233859004,\n 23854.334259722993,\n 23944.210481301063,\n 24026.113881694208,\n 24101.05982439717,\n 24169.898361500906]"
     },
     "execution_count": 15,
     "metadata": {},
     "output_type": "execute_result"
    }
   ],
   "source": [
    "train_loss_log"
   ],
   "metadata": {
    "collapsed": false,
    "ExecuteTime": {
     "start_time": "2023-11-01T01:57:25.959695Z",
     "end_time": "2023-11-01T01:57:26.007709Z"
    }
   }
  },
  {
   "cell_type": "markdown",
   "id": "2eedf99c",
   "metadata": {},
   "source": [
    "Here is your convergence plot from the last run:"
   ]
  },
  {
   "cell_type": "code",
   "execution_count": 57,
   "id": "1bae7383",
   "metadata": {
    "ExecuteTime": {
     "start_time": "2023-11-01T02:17:53.011770Z",
     "end_time": "2023-11-01T02:17:53.256363Z"
    }
   },
   "outputs": [
    {
     "data": {
      "text/plain": "<matplotlib.legend.Legend at 0x23398a91360>"
     },
     "execution_count": 57,
     "metadata": {},
     "output_type": "execute_result"
    },
    {
     "data": {
      "text/plain": "<Figure size 640x480 with 1 Axes>",
      "image/png": "[encoded data removed]"
     },
     "metadata": {},
     "output_type": "display_data"
    }
   ],
   "source": [
    "plt.plot(range(1, len(train_loss_log)+1), train_loss_log, label='train')\n",
    "plt.plot(range(1, len(val_loss_log)+1), val_loss_log, label='val')\n",
    "plt.xlabel('Ensemble size')\n",
    "plt.ylabel('Error')\n",
    "plt.legend()"
   ]
  },
  {
   "cell_type": "markdown",
   "id": "9535cb6d",
   "metadata": {},
   "source": [
    "Great job! Please, submit your solution to the grading system!"
   ]
  },
  {
   "cell_type": "code",
   "execution_count": null,
   "outputs": [],
   "source": [],
   "metadata": {
    "collapsed": false
   }
  },
  {
   "cell_type": "code",
   "execution_count": null,
   "outputs": [],
   "source": [],
   "metadata": {
    "collapsed": false
   }
  },
  {
   "cell_type": "code",
   "execution_count": null,
   "outputs": [],
   "source": [],
   "metadata": {
    "collapsed": false
   }
  },
  {
   "cell_type": "code",
   "execution_count": null,
   "outputs": [],
   "source": [],
   "metadata": {
    "collapsed": false
   }
  }
 ],
 "metadata": {
  "kernelspec": {
   "name": "python3",
   "language": "python",
   "display_name": "Python 3 (ipykernel)"
  },
  "language_info": {
   "codemirror_mode": {
    "name": "ipython",
    "version": 3
   },
   "file_extension": ".py",
   "mimetype": "text/x-python",
   "name": "python",
   "nbconvert_exporter": "python",
   "pygments_lexer": "ipython3",
   "version": "3.9.16"
  }
 },
 "nbformat": 4,
 "nbformat_minor": 5
}
